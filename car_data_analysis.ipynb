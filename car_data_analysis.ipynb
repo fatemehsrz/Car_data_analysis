{
 "cells": [
  {
   "cell_type": "markdown",
   "metadata": {},
   "source": [
    "# Data Preprocessing"
   ]
  },
  {
   "cell_type": "markdown",
   "metadata": {},
   "source": [
    "### Setting the environment"
   ]
  },
  {
   "cell_type": "code",
   "execution_count": 154,
   "metadata": {},
   "outputs": [],
   "source": [
    "import numpy as np\n",
    "import pandas as pd\n",
    "import csv\n",
    "import warnings\n",
    "warnings.filterwarnings('ignore')\n",
    "import sklearn"
   ]
  },
  {
   "cell_type": "markdown",
   "metadata": {},
   "source": [
    "### Dataset Description"
   ]
  },
  {
   "cell_type": "code",
   "execution_count": 155,
   "metadata": {},
   "outputs": [
    {
     "data": {
      "text/html": [
       "<div>\n",
       "<style scoped>\n",
       "    .dataframe tbody tr th:only-of-type {\n",
       "        vertical-align: middle;\n",
       "    }\n",
       "\n",
       "    .dataframe tbody tr th {\n",
       "        vertical-align: top;\n",
       "    }\n",
       "\n",
       "    .dataframe thead th {\n",
       "        text-align: right;\n",
       "    }\n",
       "</style>\n",
       "<table border=\"1\" class=\"dataframe\">\n",
       "  <thead>\n",
       "    <tr style=\"text-align: right;\">\n",
       "      <th></th>\n",
       "      <th>column name</th>\n",
       "      <th>description</th>\n",
       "    </tr>\n",
       "  </thead>\n",
       "  <tbody>\n",
       "    <tr>\n",
       "      <th>0</th>\n",
       "      <td>article_id</td>\n",
       "      <td>unique article identifier</td>\n",
       "    </tr>\n",
       "    <tr>\n",
       "      <th>1</th>\n",
       "      <td>product_tier</td>\n",
       "      <td>premium status of the article</td>\n",
       "    </tr>\n",
       "    <tr>\n",
       "      <th>2</th>\n",
       "      <td>make_name</td>\n",
       "      <td>name of the car manufacturer</td>\n",
       "    </tr>\n",
       "    <tr>\n",
       "      <th>3</th>\n",
       "      <td>price</td>\n",
       "      <td>price of the article</td>\n",
       "    </tr>\n",
       "    <tr>\n",
       "      <th>4</th>\n",
       "      <td>first_zip_digit</td>\n",
       "      <td>first digit of the zip code of the region the article is offered in</td>\n",
       "    </tr>\n",
       "    <tr>\n",
       "      <th>5</th>\n",
       "      <td>first_registration_year</td>\n",
       "      <td>year of the first registration of the article</td>\n",
       "    </tr>\n",
       "    <tr>\n",
       "      <th>6</th>\n",
       "      <td>created_date</td>\n",
       "      <td>creation date of the listing</td>\n",
       "    </tr>\n",
       "    <tr>\n",
       "      <th>7</th>\n",
       "      <td>deleted_date</td>\n",
       "      <td>deletion date of the listing</td>\n",
       "    </tr>\n",
       "    <tr>\n",
       "      <th>8</th>\n",
       "      <td>search_views</td>\n",
       "      <td>number of times the article has been shown as a search result</td>\n",
       "    </tr>\n",
       "    <tr>\n",
       "      <th>9</th>\n",
       "      <td>detail_views</td>\n",
       "      <td>number of times the article has been clicked on</td>\n",
       "    </tr>\n",
       "    <tr>\n",
       "      <th>10</th>\n",
       "      <td>stock_days</td>\n",
       "      <td>Time in days between the creation of the listing and the deletion of the listing</td>\n",
       "    </tr>\n",
       "    <tr>\n",
       "      <th>11</th>\n",
       "      <td>ctr</td>\n",
       "      <td>Click through rate calculated as the quotient of detail_views over search_views</td>\n",
       "    </tr>\n",
       "  </tbody>\n",
       "</table>\n",
       "</div>"
      ],
      "text/plain": [
       "                column name  \\\n",
       "0   article_id                \n",
       "1   product_tier              \n",
       "2   make_name                 \n",
       "3   price                     \n",
       "4   first_zip_digit           \n",
       "5   first_registration_year   \n",
       "6   created_date              \n",
       "7   deleted_date              \n",
       "8   search_views              \n",
       "9   detail_views              \n",
       "10  stock_days                \n",
       "11  ctr                       \n",
       "\n",
       "                                                                         description  \n",
       "0   unique article identifier                                                         \n",
       "1   premium status of the article                                                     \n",
       "2   name of the car manufacturer                                                      \n",
       "3   price of the article                                                              \n",
       "4   first digit of the zip code of the region the article is offered in               \n",
       "5   year of the first registration of the article                                     \n",
       "6   creation date of the listing                                                      \n",
       "7   deletion date of the listing                                                      \n",
       "8   number of times the article has been shown as a search result                     \n",
       "9   number of times the article has been clicked on                                   \n",
       "10  Time in days between the creation of the listing and the deletion of the listing  \n",
       "11  Click through rate calculated as the quotient of detail_views over search_views   "
      ]
     },
     "execution_count": 155,
     "metadata": {},
     "output_type": "execute_result"
    }
   ],
   "source": [
    "description=[]\n",
    "\n",
    "with open(\"AS24_Data_Description.csv\", \"r\") as f:\n",
    "    reader = csv.reader(f, delimiter=';')\n",
    "  \n",
    "    for row in reader:\n",
    "        description.append(row) \n",
    "        \n",
    "filename = \"AS24_Data_Description1.csv\"\n",
    "    \n",
    "with open(filename, 'w') as csvfile:  \n",
    "\n",
    "    csvwriter = csv.writer(csvfile)  \n",
    " \n",
    "    csvwriter.writerow(description[0])  \n",
    "    csvwriter.writerows(description[1:])    \n",
    "\n",
    "pd.set_option('display.max_colwidth', -1)\n",
    "pd.read_csv('AS24_Data_Description1.csv')\n"
   ]
  },
  {
   "cell_type": "markdown",
   "metadata": {},
   "source": [
    "### Data Cleaning"
   ]
  },
  {
   "cell_type": "code",
   "execution_count": 156,
   "metadata": {},
   "outputs": [
    {
     "name": "stdout",
     "output_type": "stream",
     "text": [
      "number of car brands: 91\n"
     ]
    },
    {
     "data": {
      "text/html": [
       "<div>\n",
       "<style scoped>\n",
       "    .dataframe tbody tr th:only-of-type {\n",
       "        vertical-align: middle;\n",
       "    }\n",
       "\n",
       "    .dataframe tbody tr th {\n",
       "        vertical-align: top;\n",
       "    }\n",
       "\n",
       "    .dataframe thead th {\n",
       "        text-align: right;\n",
       "    }\n",
       "</style>\n",
       "<table border=\"1\" class=\"dataframe\">\n",
       "  <thead>\n",
       "    <tr style=\"text-align: right;\">\n",
       "      <th></th>\n",
       "      <th>article_id</th>\n",
       "      <th>product_tier</th>\n",
       "      <th>make_name</th>\n",
       "      <th>price</th>\n",
       "      <th>first_zip_digit</th>\n",
       "      <th>first_registration_year</th>\n",
       "      <th>created_date</th>\n",
       "      <th>deleted_date</th>\n",
       "      <th>search_views</th>\n",
       "      <th>detail_views</th>\n",
       "      <th>stock_days</th>\n",
       "      <th>ctr</th>\n",
       "    </tr>\n",
       "  </thead>\n",
       "  <tbody>\n",
       "    <tr>\n",
       "      <th>78316</th>\n",
       "      <td>348704581</td>\n",
       "      <td>Basic</td>\n",
       "      <td>Lexus</td>\n",
       "      <td>15740</td>\n",
       "      <td>8</td>\n",
       "      <td>2014</td>\n",
       "      <td>12.07.18</td>\n",
       "      <td>19.10.18</td>\n",
       "      <td>6895.0</td>\n",
       "      <td>230.0</td>\n",
       "      <td>99</td>\n",
       "      <td>0.03335750543872371</td>\n",
       "    </tr>\n",
       "    <tr>\n",
       "      <th>78317</th>\n",
       "      <td>359231940</td>\n",
       "      <td>Basic</td>\n",
       "      <td>Hyundai</td>\n",
       "      <td>2950</td>\n",
       "      <td>6</td>\n",
       "      <td>2006</td>\n",
       "      <td>28.09.18</td>\n",
       "      <td>23.10.18</td>\n",
       "      <td>1175.0</td>\n",
       "      <td>16.0</td>\n",
       "      <td>25</td>\n",
       "      <td>0.012936170212765956</td>\n",
       "    </tr>\n",
       "    <tr>\n",
       "      <th>78318</th>\n",
       "      <td>362425932</td>\n",
       "      <td>Basic</td>\n",
       "      <td>Volkswagen</td>\n",
       "      <td>7850</td>\n",
       "      <td>8</td>\n",
       "      <td>2014</td>\n",
       "      <td>04.11.18</td>\n",
       "      <td>21.11.18</td>\n",
       "      <td>448.0</td>\n",
       "      <td>21.0</td>\n",
       "      <td>16</td>\n",
       "      <td>0.046875</td>\n",
       "    </tr>\n",
       "    <tr>\n",
       "      <th>78319</th>\n",
       "      <td>357164227</td>\n",
       "      <td>Basic</td>\n",
       "      <td>Toyota</td>\n",
       "      <td>13945</td>\n",
       "      <td>5</td>\n",
       "      <td>2011</td>\n",
       "      <td>04.09.18</td>\n",
       "      <td>02.10.18</td>\n",
       "      <td>1617.0</td>\n",
       "      <td>29.0</td>\n",
       "      <td>28</td>\n",
       "      <td>0.017934446505875078</td>\n",
       "    </tr>\n",
       "    <tr>\n",
       "      <th>78320</th>\n",
       "      <td>353639932</td>\n",
       "      <td>Basic</td>\n",
       "      <td>Volkswagen</td>\n",
       "      <td>38800</td>\n",
       "      <td>7</td>\n",
       "      <td>2018</td>\n",
       "      <td>08.08.18</td>\n",
       "      <td>09.08.18</td>\n",
       "      <td>55.0</td>\n",
       "      <td>2.0</td>\n",
       "      <td>1</td>\n",
       "      <td>0.03454545454545454</td>\n",
       "    </tr>\n",
       "  </tbody>\n",
       "</table>\n",
       "</div>"
      ],
      "text/plain": [
       "       article_id product_tier   make_name  price  first_zip_digit  \\\n",
       "78316  348704581   Basic        Lexus       15740  8                 \n",
       "78317  359231940   Basic        Hyundai     2950   6                 \n",
       "78318  362425932   Basic        Volkswagen  7850   8                 \n",
       "78319  357164227   Basic        Toyota      13945  5                 \n",
       "78320  353639932   Basic        Volkswagen  38800  7                 \n",
       "\n",
       "       first_registration_year created_date deleted_date  search_views  \\\n",
       "78316  2014                     12.07.18     19.10.18     6895.0         \n",
       "78317  2006                     28.09.18     23.10.18     1175.0         \n",
       "78318  2014                     04.11.18     21.11.18     448.0          \n",
       "78319  2011                     04.09.18     02.10.18     1617.0         \n",
       "78320  2018                     08.08.18     09.08.18     55.0           \n",
       "\n",
       "       detail_views  stock_days                   ctr  \n",
       "78316  230.0         99          0.03335750543872371   \n",
       "78317  16.0          25          0.012936170212765956  \n",
       "78318  21.0          16          0.046875              \n",
       "78319  29.0          28          0.017934446505875078  \n",
       "78320  2.0           1           0.03454545454545454   "
      ]
     },
     "execution_count": 156,
     "metadata": {},
     "output_type": "execute_result"
    }
   ],
   "source": [
    "\n",
    "data=[]\n",
    "\n",
    "with open(\"AS24_Case_Study_Data.csv\", \"r\") as f:\n",
    "    reader = csv.reader(f, delimiter=';')\n",
    "  \n",
    "    for row in reader:\n",
    "        \n",
    "       data.append(row) \n",
    "     \n",
    "                 \n",
    "filename = \"AS24_Case_Study_Data1.csv\"\n",
    "      \n",
    "with open(filename, 'w') as csvfile:  \n",
    "\n",
    "    csvwriter = csv.writer(csvfile)  \n",
    " \n",
    "    csvwriter.writerow(data[0])  \n",
    "    \n",
    "    csvwriter.writerows(data[1:])\n",
    "    \n",
    "    \n",
    "car_data= pd.read_csv('AS24_Case_Study_Data1.csv') #index_col='make_name'\n",
    "\n",
    "\n",
    "print('number of car brands:',len(car_data[\"make_name\"].unique()))\n",
    "#car_data.info()\n",
    "\n",
    "car_data.tail()"
   ]
  },
  {
   "cell_type": "markdown",
   "metadata": {},
   "source": [
    "### Displaying basic data distribution statistics"
   ]
  },
  {
   "cell_type": "code",
   "execution_count": 157,
   "metadata": {},
   "outputs": [
    {
     "data": {
      "text/html": [
       "<div>\n",
       "<style scoped>\n",
       "    .dataframe tbody tr th:only-of-type {\n",
       "        vertical-align: middle;\n",
       "    }\n",
       "\n",
       "    .dataframe tbody tr th {\n",
       "        vertical-align: top;\n",
       "    }\n",
       "\n",
       "    .dataframe thead th {\n",
       "        text-align: right;\n",
       "    }\n",
       "</style>\n",
       "<table border=\"1\" class=\"dataframe\">\n",
       "  <thead>\n",
       "    <tr style=\"text-align: right;\">\n",
       "      <th></th>\n",
       "      <th>article_id</th>\n",
       "      <th>price</th>\n",
       "      <th>first_zip_digit</th>\n",
       "      <th>first_registration_year</th>\n",
       "      <th>search_views</th>\n",
       "      <th>detail_views</th>\n",
       "      <th>stock_days</th>\n",
       "    </tr>\n",
       "  </thead>\n",
       "  <tbody>\n",
       "    <tr>\n",
       "      <th>count</th>\n",
       "      <td>7.832100e+04</td>\n",
       "      <td>78321.000000</td>\n",
       "      <td>78321.000000</td>\n",
       "      <td>78321.000000</td>\n",
       "      <td>78311.000000</td>\n",
       "      <td>78311.000000</td>\n",
       "      <td>78321.000000</td>\n",
       "    </tr>\n",
       "    <tr>\n",
       "      <th>mean</th>\n",
       "      <td>3.574869e+08</td>\n",
       "      <td>15067.655316</td>\n",
       "      <td>4.632117</td>\n",
       "      <td>2011.089465</td>\n",
       "      <td>2297.502522</td>\n",
       "      <td>93.469870</td>\n",
       "      <td>35.986262</td>\n",
       "    </tr>\n",
       "    <tr>\n",
       "      <th>std</th>\n",
       "      <td>5.076572e+06</td>\n",
       "      <td>16374.497606</td>\n",
       "      <td>2.354275</td>\n",
       "      <td>6.538395</td>\n",
       "      <td>6339.034423</td>\n",
       "      <td>228.025588</td>\n",
       "      <td>32.214835</td>\n",
       "    </tr>\n",
       "    <tr>\n",
       "      <th>min</th>\n",
       "      <td>3.472324e+08</td>\n",
       "      <td>1.000000</td>\n",
       "      <td>1.000000</td>\n",
       "      <td>1924.000000</td>\n",
       "      <td>0.000000</td>\n",
       "      <td>0.000000</td>\n",
       "      <td>-3.000000</td>\n",
       "    </tr>\n",
       "    <tr>\n",
       "      <th>25%</th>\n",
       "      <td>3.536387e+08</td>\n",
       "      <td>5750.000000</td>\n",
       "      <td>3.000000</td>\n",
       "      <td>2008.000000</td>\n",
       "      <td>367.000000</td>\n",
       "      <td>13.000000</td>\n",
       "      <td>10.000000</td>\n",
       "    </tr>\n",
       "    <tr>\n",
       "      <th>50%</th>\n",
       "      <td>3.585480e+08</td>\n",
       "      <td>10900.000000</td>\n",
       "      <td>5.000000</td>\n",
       "      <td>2013.000000</td>\n",
       "      <td>920.000000</td>\n",
       "      <td>36.000000</td>\n",
       "      <td>25.000000</td>\n",
       "    </tr>\n",
       "    <tr>\n",
       "      <th>75%</th>\n",
       "      <td>3.614817e+08</td>\n",
       "      <td>18890.000000</td>\n",
       "      <td>7.000000</td>\n",
       "      <td>2015.000000</td>\n",
       "      <td>2234.000000</td>\n",
       "      <td>94.000000</td>\n",
       "      <td>55.000000</td>\n",
       "    </tr>\n",
       "    <tr>\n",
       "      <th>max</th>\n",
       "      <td>3.647040e+08</td>\n",
       "      <td>249888.000000</td>\n",
       "      <td>9.000000</td>\n",
       "      <td>2106.000000</td>\n",
       "      <td>608754.000000</td>\n",
       "      <td>13926.000000</td>\n",
       "      <td>127.000000</td>\n",
       "    </tr>\n",
       "  </tbody>\n",
       "</table>\n",
       "</div>"
      ],
      "text/plain": [
       "         article_id          price  first_zip_digit  first_registration_year  \\\n",
       "count  7.832100e+04  78321.000000   78321.000000     78321.000000              \n",
       "mean   3.574869e+08  15067.655316   4.632117         2011.089465               \n",
       "std    5.076572e+06  16374.497606   2.354275         6.538395                  \n",
       "min    3.472324e+08  1.000000       1.000000         1924.000000               \n",
       "25%    3.536387e+08  5750.000000    3.000000         2008.000000               \n",
       "50%    3.585480e+08  10900.000000   5.000000         2013.000000               \n",
       "75%    3.614817e+08  18890.000000   7.000000         2015.000000               \n",
       "max    3.647040e+08  249888.000000  9.000000         2106.000000               \n",
       "\n",
       "        search_views  detail_views    stock_days  \n",
       "count  78311.000000   78311.000000  78321.000000  \n",
       "mean   2297.502522    93.469870     35.986262     \n",
       "std    6339.034423    228.025588    32.214835     \n",
       "min    0.000000       0.000000     -3.000000      \n",
       "25%    367.000000     13.000000     10.000000     \n",
       "50%    920.000000     36.000000     25.000000     \n",
       "75%    2234.000000    94.000000     55.000000     \n",
       "max    608754.000000  13926.000000  127.000000    "
      ]
     },
     "execution_count": 157,
     "metadata": {},
     "output_type": "execute_result"
    }
   ],
   "source": [
    "car_data.describe()"
   ]
  },
  {
   "cell_type": "markdown",
   "metadata": {},
   "source": [
    "### Plotting number of times each product has been clicked on"
   ]
  },
  {
   "cell_type": "code",
   "execution_count": 158,
   "metadata": {},
   "outputs": [
    {
     "name": "stdout",
     "output_type": "stream",
     "text": [
      "product_tier\n",
      "Basic      6241881.0\n",
      "Plus       143267.0 \n",
      "Premium    934571.0 \n",
      "Name: detail_views, dtype: float64\n"
     ]
    }
   ],
   "source": [
    "sorted_items=car_data.groupby(['product_tier'])['detail_views'].sum()\n",
    "print(sorted_items[:20] )"
   ]
  },
  {
   "cell_type": "code",
   "execution_count": 159,
   "metadata": {},
   "outputs": [
    {
     "data": {
      "image/png": "[encoded data removed]",
      "text/plain": [
       "<Figure size 432x288 with 1 Axes>"
      ]
     },
     "metadata": {
      "needs_background": "light"
     },
     "output_type": "display_data"
    }
   ],
   "source": [
    "import matplotlib.pyplot as plt\n",
    "\n",
    "counter_b= 6241881.0\n",
    "counter_pr=934571.0\n",
    "counter_pl=143267.0 \n",
    "\n",
    "fig = plt.figure()\n",
    "height = [counter_pr, counter_b, counter_pl]\n",
    "bars = ('Premium', 'Basic', 'Plus')\n",
    "y_pos = np.arange(len(bars))\n",
    "\n",
    "plt.bar(y_pos, height, color=['b', 'g', 'r'])\n",
    "plt.xticks(y_pos, bars)\n",
    "plt.title('Dataset Statistics', fontsize=15)\n",
    "plt.ylabel('number of detail views', fontsize=14)\n",
    "plt.xticks(fontsize=13)\n",
    "plt.yticks(fontsize=13)\n",
    "#fig.set_size_inches(7, 5)\n",
    "#fig.tight_layout()\n",
    "#plt.savefig('sent-fig.pdf')\n",
    "plt.show()"
   ]
  },
  {
   "cell_type": "markdown",
   "metadata": {},
   "source": [
    "We can see that the basic products received more detail views than premium and plus."
   ]
  },
  {
   "cell_type": "markdown",
   "metadata": {},
   "source": [
    "### Check for missing data\n"
   ]
  },
  {
   "cell_type": "code",
   "execution_count": 160,
   "metadata": {},
   "outputs": [
    {
     "data": {
      "text/plain": [
       "True"
      ]
     },
     "execution_count": 160,
     "metadata": {},
     "output_type": "execute_result"
    }
   ],
   "source": [
    "car_data.isnull().values.any()"
   ]
  },
  {
   "cell_type": "code",
   "execution_count": 161,
   "metadata": {},
   "outputs": [
    {
     "name": "stdout",
     "output_type": "stream",
     "text": [
      "                                     column_name  percent_missing\n",
      "article_id               article_id               0.000000       \n",
      "product_tier             product_tier             0.000000       \n",
      "make_name                make_name                0.000000       \n",
      "price                    price                    0.000000       \n",
      "first_zip_digit          first_zip_digit          0.000000       \n",
      "first_registration_year  first_registration_year  0.000000       \n",
      "created_date             created_date             0.000000       \n",
      "deleted_date             deleted_date             0.000000       \n",
      "search_views             search_views             0.012768       \n",
      "detail_views             detail_views             0.012768       \n",
      "stock_days               stock_days               0.000000       \n",
      "ctr                      ctr                      0.030643       \n"
     ]
    }
   ],
   "source": [
    "percent_missing = car_data.isnull().sum() * 100 / len(car_data)\n",
    "missing_values = pd.DataFrame({'column_name': car_data.columns,\n",
    "                                 'percent_missing': percent_missing})\n",
    "\n",
    "print(missing_values)"
   ]
  },
  {
   "cell_type": "markdown",
   "metadata": {},
   "source": [
    "### Filling missing values\n",
    "A simple way is to fill the missing values with mean."
   ]
  },
  {
   "cell_type": "code",
   "execution_count": 162,
   "metadata": {},
   "outputs": [
    {
     "data": {
      "text/html": [
       "<div>\n",
       "<style scoped>\n",
       "    .dataframe tbody tr th:only-of-type {\n",
       "        vertical-align: middle;\n",
       "    }\n",
       "\n",
       "    .dataframe tbody tr th {\n",
       "        vertical-align: top;\n",
       "    }\n",
       "\n",
       "    .dataframe thead th {\n",
       "        text-align: right;\n",
       "    }\n",
       "</style>\n",
       "<table border=\"1\" class=\"dataframe\">\n",
       "  <thead>\n",
       "    <tr style=\"text-align: right;\">\n",
       "      <th></th>\n",
       "      <th>article_id</th>\n",
       "      <th>product_tier</th>\n",
       "      <th>make_name</th>\n",
       "      <th>price</th>\n",
       "      <th>first_zip_digit</th>\n",
       "      <th>first_registration_year</th>\n",
       "      <th>created_date</th>\n",
       "      <th>deleted_date</th>\n",
       "      <th>search_views</th>\n",
       "      <th>detail_views</th>\n",
       "      <th>stock_days</th>\n",
       "      <th>ctr</th>\n",
       "    </tr>\n",
       "  </thead>\n",
       "  <tbody>\n",
       "    <tr>\n",
       "      <th>78316</th>\n",
       "      <td>348704581</td>\n",
       "      <td>Basic</td>\n",
       "      <td>Lexus</td>\n",
       "      <td>15740</td>\n",
       "      <td>8</td>\n",
       "      <td>2014</td>\n",
       "      <td>12.07.18</td>\n",
       "      <td>19.10.18</td>\n",
       "      <td>6895.0</td>\n",
       "      <td>230.0</td>\n",
       "      <td>99</td>\n",
       "      <td>0.033358</td>\n",
       "    </tr>\n",
       "    <tr>\n",
       "      <th>78317</th>\n",
       "      <td>359231940</td>\n",
       "      <td>Basic</td>\n",
       "      <td>Hyundai</td>\n",
       "      <td>2950</td>\n",
       "      <td>6</td>\n",
       "      <td>2006</td>\n",
       "      <td>28.09.18</td>\n",
       "      <td>23.10.18</td>\n",
       "      <td>1175.0</td>\n",
       "      <td>16.0</td>\n",
       "      <td>25</td>\n",
       "      <td>0.012936</td>\n",
       "    </tr>\n",
       "    <tr>\n",
       "      <th>78318</th>\n",
       "      <td>362425932</td>\n",
       "      <td>Basic</td>\n",
       "      <td>Volkswagen</td>\n",
       "      <td>7850</td>\n",
       "      <td>8</td>\n",
       "      <td>2014</td>\n",
       "      <td>04.11.18</td>\n",
       "      <td>21.11.18</td>\n",
       "      <td>448.0</td>\n",
       "      <td>21.0</td>\n",
       "      <td>16</td>\n",
       "      <td>0.046875</td>\n",
       "    </tr>\n",
       "    <tr>\n",
       "      <th>78319</th>\n",
       "      <td>357164227</td>\n",
       "      <td>Basic</td>\n",
       "      <td>Toyota</td>\n",
       "      <td>13945</td>\n",
       "      <td>5</td>\n",
       "      <td>2011</td>\n",
       "      <td>04.09.18</td>\n",
       "      <td>02.10.18</td>\n",
       "      <td>1617.0</td>\n",
       "      <td>29.0</td>\n",
       "      <td>28</td>\n",
       "      <td>0.017934</td>\n",
       "    </tr>\n",
       "    <tr>\n",
       "      <th>78320</th>\n",
       "      <td>353639932</td>\n",
       "      <td>Basic</td>\n",
       "      <td>Volkswagen</td>\n",
       "      <td>38800</td>\n",
       "      <td>7</td>\n",
       "      <td>2018</td>\n",
       "      <td>08.08.18</td>\n",
       "      <td>09.08.18</td>\n",
       "      <td>55.0</td>\n",
       "      <td>2.0</td>\n",
       "      <td>1</td>\n",
       "      <td>0.034545</td>\n",
       "    </tr>\n",
       "  </tbody>\n",
       "</table>\n",
       "</div>"
      ],
      "text/plain": [
       "       article_id product_tier   make_name  price  first_zip_digit  \\\n",
       "78316  348704581   Basic        Lexus       15740  8                 \n",
       "78317  359231940   Basic        Hyundai     2950   6                 \n",
       "78318  362425932   Basic        Volkswagen  7850   8                 \n",
       "78319  357164227   Basic        Toyota      13945  5                 \n",
       "78320  353639932   Basic        Volkswagen  38800  7                 \n",
       "\n",
       "       first_registration_year created_date deleted_date  search_views  \\\n",
       "78316  2014                     12.07.18     19.10.18     6895.0         \n",
       "78317  2006                     28.09.18     23.10.18     1175.0         \n",
       "78318  2014                     04.11.18     21.11.18     448.0          \n",
       "78319  2011                     04.09.18     02.10.18     1617.0         \n",
       "78320  2018                     08.08.18     09.08.18     55.0           \n",
       "\n",
       "       detail_views  stock_days       ctr  \n",
       "78316  230.0         99          0.033358  \n",
       "78317  16.0          25          0.012936  \n",
       "78318  21.0          16          0.046875  \n",
       "78319  29.0          28          0.017934  \n",
       "78320  2.0           1           0.034545  "
      ]
     },
     "execution_count": 162,
     "metadata": {},
     "output_type": "execute_result"
    }
   ],
   "source": [
    "car_data['search_views'].fillna(car_data['search_views'].mean(), inplace=True)\n",
    "car_data['detail_views'].fillna(car_data['detail_views'].mean(), inplace=True)\n",
    "car_data['ctr'] = pd.to_numeric(car_data['ctr'], errors='coerce')\n",
    "car_data['ctr'].fillna(car_data['ctr'].mean(), inplace=True)\n",
    "car_data.tail()"
   ]
  },
  {
   "cell_type": "code",
   "execution_count": 163,
   "metadata": {},
   "outputs": [
    {
     "data": {
      "text/plain": [
       "False"
      ]
     },
     "execution_count": 163,
     "metadata": {},
     "output_type": "execute_result"
    }
   ],
   "source": [
    "car_data.isnull().values.any()"
   ]
  },
  {
   "cell_type": "markdown",
   "metadata": {},
   "source": [
    "### Detail view distribution"
   ]
  },
  {
   "cell_type": "code",
   "execution_count": 164,
   "metadata": {},
   "outputs": [
    {
     "name": "stdout",
     "output_type": "stream",
     "text": [
      "mean(detail_views): 93.470 std(detail_views): 228.010\n",
      "max(detail_views): 13926.000 min(detail_views): 0.000\n",
      "median(detail_views): 36.000\n",
      "Number of products never the detail has viewed:  (0.0, 1258)\n",
      "Number of  products got max views:  (13926.0, 1)\n",
      "Number of  products got two views (mode of the data): 1837\n"
     ]
    },
    {
     "data": {
      "image/png": "[encoded data removed]",
      "text/plain": [
       "<Figure size 576x360 with 1 Axes>"
      ]
     },
     "metadata": {
      "needs_background": "light"
     },
     "output_type": "display_data"
    }
   ],
   "source": [
    "import scipy.stats as stats\n",
    "from numpy import median\n",
    "from numpy import mean\n",
    "from numpy import std\n",
    "\n",
    "vwd= car_data['detail_views'].tolist()\n",
    "print('mean(detail_views): %.3f'% mean(vwd),'std(detail_views): %.3f'% std(vwd) )\n",
    "print('max(detail_views): %.3f'%max(vwd),'min(detail_views): %.3f'% min(vwd) )\n",
    "print('median(detail_views): %.3f'%median(vwd) )\n",
    "\n",
    "\n",
    "#car_data['detail_views'].hist(bins=10,figsize=(9,6))\n",
    "\n",
    "counter = Counter(vwd)\n",
    "\n",
    "counter_sorted= {k: v for k, v in sorted(counter .items(), key=lambda item: item[0])}\n",
    "print('Number of products never the detail has viewed: ', list( counter_sorted.items())[0])\n",
    "print('Number of  products got max views: ',list( counter_sorted.items())[len(counter)-1])\n",
    "print('Number of  products got two views (mode of the data):', counter.most_common(1)[0][1] )\n",
    "\n",
    "fig, ax = plt.subplots()\n",
    "ax.grid(True)\n",
    "ax.grid(linestyle=':')\n",
    "\n",
    "view= sorted(vwd)\n",
    "\n",
    "fig.set_size_inches(8,5)\n",
    "hmean=mean(vwd)\n",
    "hstd = np.std(view)\n",
    "pdf = stats.norm.pdf(view, hmean, hstd)\n",
    "\n",
    "plt.plot(view, pdf, color= 'red', linewidth=3)\n",
    "\n",
    "plt.xlabel('detail_views',fontsize=15)\n",
    "plt.ylabel('Frequency',fontsize=15)#fontsize=25\n",
    "plt.title('Detail Views Distribution',fontsize=15)\n",
    "plt.xticks(fontsize=13)\n",
    "plt.yticks(fontsize=13)\n",
    "\n",
    "plt.show()"
   ]
  },
  {
   "cell_type": "markdown",
   "metadata": {},
   "source": [
    "According to the distribtion chart, most of the prodcuts are viewed less than 1000 times. Highly viewed products are not occured very often in this dataset. For example, totally 1,258 products in this dataset never got a click for  detail view and 1,837 products got two clicks (mode of the data). The highest detail view (13,926 times) occured only once in this dataset."
   ]
  },
  {
   "cell_type": "markdown",
   "metadata": {},
   "source": [
    "### Check the dataset balance"
   ]
  },
  {
   "cell_type": "code",
   "execution_count": 165,
   "metadata": {},
   "outputs": [
    {
     "name": "stdout",
     "output_type": "stream",
     "text": [
      "Class=Basic, Count=75421, Percentage=96.297%\n",
      "Class=Premium, Count=2324, Percentage=2.967%\n",
      "Class=Plus, Count=576, Percentage=0.735%\n"
     ]
    }
   ],
   "source": [
    "from collections import Counter\n",
    "\n",
    "#car_data.groupby('product_tier').count()\n",
    "target_var=car_data['product_tier']\n",
    "\n",
    "counter = Counter(target_var)\n",
    "for u,v in counter.items():\n",
    "    per = v / len(target_var) * 100\n",
    "    print('Class=%s, Count=%d, Percentage=%.3f%%' % (u, v, per))"
   ]
  },
  {
   "cell_type": "code",
   "execution_count": 166,
   "metadata": {},
   "outputs": [
    {
     "data": {
      "image/png": "[encoded data removed]",
      "text/plain": [
       "<Figure size 432x288 with 1 Axes>"
      ]
     },
     "metadata": {
      "needs_background": "light"
     },
     "output_type": "display_data"
    }
   ],
   "source": [
    "counter_pr=2324\n",
    "counter_b= 75421\n",
    "counter_pl=576\n",
    "\n",
    "fig = plt.figure()\n",
    "# ax = fig.add_axes([0,0,1,1])\n",
    "\n",
    "height = [counter_pr, counter_b, counter_pl]\n",
    "bars = ('Premium', 'Basic', 'Plus')\n",
    "y_pos = np.arange(len(bars))\n",
    "\n",
    "plt.bar(y_pos, height, color=['b', 'g', 'r'])\n",
    "plt.xticks(y_pos, bars)\n",
    "\n",
    "\n",
    "plt.title('Dataset Labels', fontsize=15)\n",
    "\n",
    "plt.ylabel('Frequency', fontsize=14)\n",
    "plt.xticks(fontsize=13)\n",
    "plt.yticks(fontsize=13)\n",
    "#fig.set_size_inches(7, 5)\n",
    "#fig.tight_layout()\n",
    "#plt.savefig('sent-fig.pdf')\n",
    "\n",
    "plt.show()"
   ]
  },
  {
   "cell_type": "markdown",
   "metadata": {},
   "source": [
    "We can see that the produc_tier class is imbalance. We will balance it in the next following section."
   ]
  },
  {
   "cell_type": "markdown",
   "metadata": {},
   "source": [
    " ### Balance the dataset (undersampling)"
   ]
  },
  {
   "cell_type": "code",
   "execution_count": 167,
   "metadata": {},
   "outputs": [
    {
     "name": "stdout",
     "output_type": "stream",
     "text": [
      "X.shape: (78321, 8)\n",
      "y.shape: (78321,)\n",
      "X.shape after undersampling (5224, 8)\n",
      "y.shape after undersampling (5224,)\n",
      "class= 0, n= 2324 (2.9673%)\n",
      "class= 1, n= 576 (0.7354%)\n",
      "class= 2, n= 2324 (2.9673%)\n"
     ]
    },
    {
     "data": {
      "image/png": "[encoded data removed]",
      "text/plain": [
       "<Figure size 432x288 with 1 Axes>"
      ]
     },
     "metadata": {
      "needs_background": "light"
     },
     "output_type": "display_data"
    }
   ],
   "source": [
    "#from imblearn import under_sampling, over_sampling\n",
    "from sklearn.preprocessing import LabelEncoder, LabelBinarizer\n",
    "from imblearn.under_sampling import RandomUnderSampler\n",
    "\n",
    "# we exclude the date data\n",
    "\n",
    "X= car_data.drop(['product_tier','make_name','created_date', 'deleted_date'], axis=1)\n",
    "y=car_data['product_tier']\n",
    "\n",
    "y = LabelEncoder().fit_transform(y)\n",
    "\n",
    "print('X.shape:', X.shape)\n",
    "print('y.shape:',y.shape)\n",
    "\n",
    "undersample = RandomUnderSampler(sampling_strategy= {0:2324, 1:576, 2: 2324  }, random_state=1)\n",
    "X_c, y_c = undersample.fit_sample(X, y)\n",
    "\n",
    "print('X.shape after undersampling', X_c.shape)\n",
    "print('y.shape after undersampling', y_c.shape)\n",
    "\n",
    "counter = Counter(y_c)\n",
    "for k,v in counter.items():\n",
    "    rate = v / len(y) * 100\n",
    "    print('class= %s, n= %d (%.4f%%)' % (k, v, rate))\n",
    "\n",
    "\n",
    "plt.bar(counter.keys(), counter.values())\n",
    "plt.show()\n",
    "\n",
    "#class= 0, n= 75421 (96.2973%)\n",
    "#class= 2, n= 2324 (2.9673%)\n",
    "#class= 1, n= 576 (0.7354%)\n"
   ]
  },
  {
   "cell_type": "markdown",
   "metadata": {},
   "source": [
    "#  Predicting Product Tier"
   ]
  },
  {
   "cell_type": "markdown",
   "metadata": {},
   "source": [
    "we examine different classifiers on the dataset to quickly flush out what works well and what doesn’t:\n",
    "- Dummy classifer (as baseline)\n",
    "- Support Vector Machine(SVM)\n",
    "- Random Forest (RF)\n",
    "- k-Nearest Neighbors(KNN)\n",
    "- GaussianProcessClassifier\n",
    "- Multinomial Logistic Regression (LR)\n",
    "- Neural Networks (NN)"
   ]
  },
  {
   "cell_type": "markdown",
   "metadata": {},
   "source": [
    "##  Classifiers"
   ]
  },
  {
   "cell_type": "code",
   "execution_count": 55,
   "metadata": {
    "scrolled": true
   },
   "outputs": [
    {
     "name": "stdout",
     "output_type": "stream",
     "text": [
      "====> DuM f_micro: 0.4449 (std 0.0002)\n",
      "====> SVM f_micro: 0.3378 (std 0.1565)\n",
      "====> NN  f_micro: 0.4449 (std 0.0002)\n",
      "====> LR  f_micro: 0.3972 (std 0.1789)\n",
      "====> KNN f_micro: 0.5395 (std 0.0143)\n",
      "====> LDA f_micro: 0.5602 (std 0.0198)\n",
      "====> DT  f_micro: 0.6810 (std 0.0176)\n",
      "====> RF  f_micro: 0.7783 (std 0.0131)\n",
      "====> ET  f_micro: 0.7817 (std 0.0128)\n",
      "====> BAG f_micro: 0.7676 (std 0.0119)\n"
     ]
    }
   ],
   "source": [
    "from sklearn.svm import LinearSVC\n",
    "from sklearn.neighbors import KNeighborsClassifier\n",
    "from sklearn.gaussian_process import GaussianProcessClassifier\n",
    "from sklearn.linear_model import LogisticRegression\n",
    "\n",
    "from sklearn.ensemble import RandomForestClassifier\n",
    "from sklearn.ensemble import ExtraTreesClassifier\n",
    "from sklearn.ensemble import BaggingClassifier\n",
    "\n",
    "from imblearn.pipeline import Pipeline\n",
    "from sklearn.neural_network import MLPClassifier\n",
    "from sklearn.discriminant_analysis import LinearDiscriminantAnalysis\n",
    "from sklearn.tree import DecisionTreeClassifier\n",
    "from sklearn.dummy import DummyClassifier\n",
    "\n",
    "from collections import Counter\n",
    "from sklearn.model_selection import cross_val_score\n",
    "from sklearn.model_selection import RepeatedStratifiedKFold\n",
    "from imblearn.over_sampling import SMOTE\n",
    "\n",
    "def evaluate_model(X, y, model):\n",
    "    \n",
    "   cval = RepeatedStratifiedKFold(n_splits=5, n_repeats=3, random_state=42)\n",
    "   scores = cross_val_score(model, X, y, scoring='f1_micro', cv=cval, n_jobs=-1)\n",
    "   return scores\n",
    "\n",
    "def clf_models():\n",
    "    models, names = list(), list()\n",
    "    \n",
    "    models.append(DummyClassifier(strategy='most_frequent'))\n",
    "    names.append('DuM')\n",
    "    \n",
    "    models.append(LinearSVC())\n",
    "    names.append('SVM')\n",
    "    \n",
    "    models.append(MLPClassifier(solver='lbfgs', alpha=1e-5, hidden_layer_sizes=(8, 3), random_state=42))\n",
    "    names.append('NN ')\n",
    "    \n",
    "    models.append(LogisticRegression(solver='lbfgs', multi_class='multinomial'))\n",
    "    names.append('LR ')\n",
    "    \n",
    "    models.append(KNeighborsClassifier())\n",
    "    names.append('KNN')\n",
    "    \n",
    "    models.append(LinearDiscriminantAnalysis())\n",
    "    names.append('LDA')\n",
    "    \n",
    "    models.append(DecisionTreeClassifier())\n",
    "    names.append('DT ')\n",
    "    \n",
    "    models.append(RandomForestClassifier(n_estimators=1000))\n",
    "    names.append('RF ')\n",
    "    \n",
    "    models.append(ExtraTreesClassifier(n_estimators=1000))\n",
    "    names.append('ET ')\n",
    "    \n",
    "    models.append(BaggingClassifier(n_estimators=1000))\n",
    "    names.append('BAG')\n",
    "    return models, names\n",
    "\n",
    "models, names = clf_models()\n",
    "f_scores = list()\n",
    "\n",
    "for i in range(len(models)):\n",
    "   steps = [('o', SMOTE(k_neighbors=2)), ('m', models[i])]\n",
    "   pipeline = Pipeline(steps=steps)\n",
    "   scores = evaluate_model(X_c, y_c, pipeline)\n",
    "   f_scores.append(scores)\n",
    "   print('====> %s f_micro: %.4f (std %.4f)' % (names[i], mean(scores), std(scores)))"
   ]
  },
  {
   "cell_type": "code",
   "execution_count": 72,
   "metadata": {},
   "outputs": [
    {
     "data": {
      "image/png": "[encoded data removed]",
      "text/plain": [
       "<Figure size 792x504 with 1 Axes>"
      ]
     },
     "metadata": {
      "needs_background": "light"
     },
     "output_type": "display_data"
    }
   ],
   "source": [
    "fig = plt.figure()\n",
    "fig.set_size_inches(11, 7)\n",
    "plt.boxplot(f_scores, labels=names, showmeans=True)\n",
    "plt.show()"
   ]
  },
  {
   "cell_type": "markdown",
   "metadata": {},
   "source": [
    "We have tried multiple classifiers. The Dummy classifier presents  the baseline of our prediction through a random guess. The performance of each method is measured by F1 score as it only returns good value if both the Precision and Recall are high and acts well in  a multi-class setting. We report the results after 5-fold cross validation along with standard deviation (std) proportional to mean.\n",
    "\n",
    "Looking at the detail presented in the box chart, the most successful prediction  achieved by Extra Trees Classifier with F1= 0.781 and std= 0.012 (quite small). There exists a tight competition between Extra Trees (ET) and Random Forest (RF) Classifier.\n",
    "ET follows ensemble learning which aggregates the results of multiple de-correlated decision trees gathered in a forest to compute the final output. \n",
    "Conceptually, ET is very similar to a Random Forest but only differs in the manner of construction of the decision trees. \n",
    "The \"Random\" in RF means using a random subset of the dataset, but ET instead choose the best possible threshold for each tree at each node. Overall, their  current performance is  very close, however, ET is computationally faster.  The Bagging classifier is the next successful predictor that fits multiple base classifiers (ensemble approach)  then aggregates their individual predictions.  \n",
    "\n",
    "Although SVM and Logistic Regression are  widely used algorithms, they both fail on this dataset (worse than Dummy).\n",
    "Neural networks achieved a great success in last decade, however on this particular dataset the feedforward network showed a poor performance using implementations from both sklearn and Keras.\n",
    "\n",
    "We conclude  ensemble learning methods which aggregate multiple classifiers are well-suited for this dataset."
   ]
  },
  {
   "cell_type": "markdown",
   "metadata": {},
   "source": [
    "### Neural Networks (Keras)"
   ]
  },
  {
   "cell_type": "code",
   "execution_count": 60,
   "metadata": {},
   "outputs": [
    {
     "name": "stdout",
     "output_type": "stream",
     "text": [
      "1568/1568 [==============================] - 0s 94us/step\n",
      "Accuracy: 0.626700758934021\n"
     ]
    }
   ],
   "source": [
    "from sklearn.model_selection  import train_test_split\n",
    "from keras.models import Sequential\n",
    "from keras.layers import Dense\n",
    "\n",
    "\n",
    "y_k = LabelBinarizer().fit_transform(y_c)\n",
    "X_train, X_test, y_train, y_test  = train_test_split(X_c, y_k, test_size=0.3, random_state=42)\n",
    "\n",
    "def neural_net(X_train, y_train, Xtest, ytest):\n",
    "    \n",
    "    model = Sequential()\n",
    "    model.add(Dense(12, input_dim=8, activation='relu'))\n",
    "    model.add(Dense(8, activation='relu'))\n",
    "    model.add(Dense(3, activation='softmax'))\n",
    "    model.compile(optimizer='adam', loss='binary_crossentropy', metrics=['acc'])\n",
    "    model.fit(X_train, y_train, validation_split=0.3, epochs=20,batch_size=32, verbose=0)\n",
    "    loss, accuracy= model.evaluate(X_test, y_test)\n",
    "    return accuracy\n",
    "\n",
    "accuracy= neural_net(X_train, y_train, X_test, y_test)\n",
    "print( 'Accuracy:', accuracy)"
   ]
  },
  {
   "cell_type": "markdown",
   "metadata": {},
   "source": [
    "# Approximating Detail Views\n",
    "\n",
    "we use the following regressors:\n",
    "-  Dummy (as baseline)\n",
    "-  LinearRegression\n",
    "-  HuberRegressor\n",
    "-  RANSACRegressor\n",
    "-  DecisionTreeRegressor\n",
    "-  BaggingRegressor\n",
    "-  GradientBoostingRegressor\n",
    "-  RandomForestRegressor"
   ]
  },
  {
   "cell_type": "code",
   "execution_count": 61,
   "metadata": {},
   "outputs": [],
   "source": [
    "X_reg= car_data.drop(['detail_views','make_name', 'product_tier','created_date', 'deleted_date'], axis=1)\n",
    "y_reg=car_data['detail_views'] "
   ]
  },
  {
   "cell_type": "code",
   "execution_count": 119,
   "metadata": {},
   "outputs": [
    {
     "name": "stdout",
     "output_type": "stream",
     "text": [
      "mean(detail_views): 93.470 std(detail_views): 228.010\n",
      "max(detail_views): 13926.000 min(detail_views) 0.000\n",
      "=====> Dum    mean absolute error: 95.589  (std: 1.587)\n",
      "=====> Linear mean absolute error: 43.329  (std: 0.545)\n",
      "=====> Huber  mean absolute error: 78.856  (std: 2.038)\n",
      "=====> RANSAC mean absolute error: 36.687  (std: 2.130)\n",
      "=====> BAG    mean absolute error: 3.138  (std: 0.457)\n",
      "=====> DT     mean absolute error: 4.612  (std: 0.517)\n",
      "=====> RF     mean absolute error: 2.703  (std: 0.427)\n",
      "=====> GBoost mean absolute error: 8.058  (std: 0.899)\n"
     ]
    },
    {
     "data": {
      "image/png": "[encoded data removed]",
      "text/plain": [
       "<Figure size 792x504 with 1 Axes>"
      ]
     },
     "metadata": {
      "needs_background": "light"
     },
     "output_type": "display_data"
    }
   ],
   "source": [
    "import numpy as np\n",
    "from sklearn import  linear_model\n",
    "from sklearn.model_selection import cross_val_score\n",
    "from sklearn.model_selection import RepeatedKFold\n",
    "from numpy import absolute\n",
    "\n",
    "from sklearn.linear_model import LinearRegression\n",
    "from sklearn.linear_model import HuberRegressor\n",
    "from sklearn.linear_model import RANSACRegressor\n",
    "from sklearn.tree import DecisionTreeRegressor\n",
    "from sklearn.ensemble import VotingRegressor\n",
    "from sklearn.ensemble import BaggingRegressor\n",
    "from sklearn.ensemble  import GradientBoostingRegressor\n",
    "from sklearn.ensemble  import StackingRegressor\n",
    "from sklearn.ensemble  import RandomForestRegressor\n",
    "from sklearn.dummy import DummyRegressor\n",
    "\n",
    "\n",
    "def reg_models():\n",
    "    \n",
    "   models = dict()\n",
    "   models['Dum   ']=  DummyRegressor()\n",
    "   models['Linear'] = LinearRegression()\n",
    "   models['Huber '] = HuberRegressor()\n",
    "   models['RANSAC'] = RANSACRegressor()\n",
    "   models['BAG   '] = BaggingRegressor()\n",
    "   models['DT    '] = DecisionTreeRegressor()\n",
    "   models['RF    '] = RandomForestRegressor()\n",
    "   models['GBoost'] = GradientBoostingRegressor()\n",
    "  \n",
    "   return models\n",
    " \n",
    "\n",
    "def evalute_model(X, y, model, name):\n",
    "\n",
    "   cv = RepeatedKFold(n_splits=5, n_repeats=3, random_state=1)\n",
    "   scores = cross_val_score(model, X, y, scoring='neg_mean_absolute_error', n_jobs=-1)\n",
    "   scores = absolute(scores)\n",
    "   return scores\n",
    "\n",
    "print('mean(detail_views): %0.3f'%mean(y_reg),'std(detail_views): %0.3f'% std(y_reg) )\n",
    "print('max(detail_views): %0.3f'% max(y_reg),'min(detail_views) %0.3f'% min(y_reg) ) \n",
    "\n",
    "\n",
    "models_reg = reg_models()\n",
    "results_reg = dict()\n",
    "for name_reg, model_reg in models_reg.items():\n",
    "\n",
    "   results_reg[name_reg] = evalute_model(X_reg, y_reg, model_reg, name_reg)\n",
    "   print('=====> %s mean absolute error: %.3f  (std: %.3f)' % (name_reg, mean(results_reg[name_reg]), std(results_reg[name_reg])))\n",
    "\n",
    "fig = plt.figure()\n",
    "fig.set_size_inches(11, 7)    \n",
    "plt.boxplot(results_reg.values(), labels=results_reg.keys(), showmeans=True)\n",
    "plt.show()"
   ]
  },
  {
   "cell_type": "markdown",
   "metadata": {},
   "source": [
    "We report our results by Mean Absolute Error (MAE) which is most natural measure of average error magnitude. The lower error, the better approximation. Looking at MAEs and the box chart, the most successful gain comes from the ensemble models like Random Forest and Bagging Regressor. This result was expected as the nature of the dataset  remains mostly similar to  classification case. RF approximates the detail views very well with the average error of 2.7 and a small std of 0.42. Given the mean of the data (93.4) and  standard deviation (228.0) , RF with small std error (0.42) can approximate the large number clicks quite well. However, approximating the detail views for items with 0, 1, 2 or 3 clicks is still challenging. \n"
   ]
  },
  {
   "cell_type": "markdown",
   "metadata": {},
   "source": [
    "# Additional Experiments\n",
    "We examine whether the date columns make a difference in classification results:"
   ]
  },
  {
   "cell_type": "code",
   "execution_count": 75,
   "metadata": {},
   "outputs": [
    {
     "name": "stdout",
     "output_type": "stream",
     "text": [
      "====> DuM f_micro: 0.4449 (std 0.0002)\n",
      "====> SVM f_micro: 0.3808 (std 0.1721)\n",
      "====> NN  f_micro: 0.4449 (std 0.0002)\n",
      "====> LR  f_micro: 0.4026 (std 0.1469)\n",
      "====> KNN f_micro: 0.5416 (std 0.0149)\n",
      "====> LDA f_micro: 0.5535 (std 0.0214)\n",
      "====> DT  f_micro: 0.6875 (std 0.0185)\n",
      "====> RF  f_micro: 0.7858 (std 0.0130)\n",
      "====> ET  f_micro: 0.7854 (std 0.0109)\n",
      "====> BAG f_micro: 0.7762 (std 0.0127)\n"
     ]
    },
    {
     "data": {
      "image/png": "[encoded data removed]",
      "text/plain": [
       "<Figure size 792x504 with 1 Axes>"
      ]
     },
     "metadata": {
      "needs_background": "light"
     },
     "output_type": "display_data"
    }
   ],
   "source": [
    "car_data['created_date'] = pd.to_datetime(car_data['created_date'], errors = 'coerce')\n",
    "car_data['deleted_date'] = pd.to_datetime(car_data['deleted_date'],  errors = 'coerce')\n",
    "\n",
    "\n",
    "car_data['created_year'] = car_data['created_date'].dt.year\n",
    "car_data['created_month'] = car_data['created_date'].dt.month\n",
    "car_data['created_day'] = car_data['created_date'].dt.day\n",
    "\n",
    "\n",
    "car_data['deleted_year'] = car_data['deleted_date'].dt.year\n",
    "car_data['deleted_month'] = car_data['deleted_date'].dt.month\n",
    "car_data['deleted_day'] = car_data['deleted_date'].dt.day\n",
    "\n",
    "X_add= car_data.drop(['product_tier','make_name','created_date', 'deleted_date'], axis=1)\n",
    "y_add=car_data['product_tier']\n",
    "y_add = LabelEncoder().fit_transform(y_add)\n",
    "\n",
    "undersample = RandomUnderSampler(sampling_strategy= {0:2324, 1:576, 2: 2324  }, random_state=1)\n",
    "X_t, y_t = undersample.fit_sample(X_add, y_add)\n",
    "\n",
    "models, names = clf_models()\n",
    "\n",
    "f_scores = list()\n",
    "\n",
    "for i in range(len(models)):\n",
    "   steps = [('o', SMOTE(k_neighbors=2)), ('m', models[i])]\n",
    "   pipeline = Pipeline(steps=steps)\n",
    "   \n",
    "   scores = evaluate_model(X_t, y_t, pipeline)\n",
    "   f_scores.append(scores)\n",
    "   print('====> %s f_micro: %.4f (std %.4f)' % (names[i], mean(scores), std(scores)))\n",
    "\n",
    "fig = plt.figure()\n",
    "fig.set_size_inches(11, 7)\n",
    "plt.boxplot(f_scores, labels=names, showmeans=True)\n",
    "plt.show()\n"
   ]
  },
  {
   "cell_type": "markdown",
   "metadata": {},
   "source": [
    "We can see that including time columns does not make a significant difference, yet ensemble learning methods (ET, RF, BAG) are sucessful in this prediction task."
   ]
  }
 ],
 "metadata": {
  "kernelspec": {
   "display_name": "Python 3",
   "language": "python",
   "name": "python3"
  },
  "language_info": {
   "codemirror_mode": {
    "name": "ipython",
    "version": 3
   },
   "file_extension": ".py",
   "mimetype": "text/x-python",
   "name": "python",
   "nbconvert_exporter": "python",
   "pygments_lexer": "ipython3",
   "version": "3.8.5"
  }
 },
 "nbformat": 4,
 "nbformat_minor": 2
}
